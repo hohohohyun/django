{
  "nbformat": 4,
  "nbformat_minor": 0,
  "metadata": {
    "kernelspec": {
      "display_name": "Python 3",
      "language": "python",
      "name": "python3"
    },
    "language_info": {
      "codemirror_mode": {
        "name": "ipython",
        "version": 3
      },
      "file_extension": ".py",
      "mimetype": "text/x-python",
      "name": "python",
      "nbconvert_exporter": "python",
      "pygments_lexer": "ipython3",
      "version": "3.8.3"
    },
    "colab": {
      "name": "sent_test.ipynb",
      "provenance": [],
      "collapsed_sections": [],
      "include_colab_link": true
    }
  },
  "cells": [
    {
      "cell_type": "markdown",
      "metadata": {
        "id": "view-in-github",
        "colab_type": "text"
      },
      "source": [
        "<a href=\"https://colab.research.google.com/github/hohohohyun/django/blob/master/sent_test.ipynb\" target=\"_parent\"><img src=\"https://colab.research.google.com/assets/colab-badge.svg\" alt=\"Open In Colab\"/></a>"
      ]
    },
    {
      "cell_type": "code",
      "metadata": {
        "id": "wXXN1MGv8t0J",
        "colab_type": "code",
        "colab": {
          "base_uri": "https://localhost:8080/",
          "height": 127
        },
        "outputId": "d187dea1-9158-44e8-d758-60ea28199b68"
      },
      "source": [
        "from google.colab import drive\n",
        "drive.mount('/content/drive')"
      ],
      "execution_count": 1,
      "outputs": [
        {
          "output_type": "stream",
          "text": [
            "Go to this URL in a browser: https://accounts.google.com/o/oauth2/auth?client_id=947318989803-6bn6qk8qdgf4n4g3pfee6491hc0brc4i.apps.googleusercontent.com&redirect_uri=urn%3aietf%3awg%3aoauth%3a2.0%3aoob&scope=email%20https%3a%2f%2fwww.googleapis.com%2fauth%2fdocs.test%20https%3a%2f%2fwww.googleapis.com%2fauth%2fdrive%20https%3a%2f%2fwww.googleapis.com%2fauth%2fdrive.photos.readonly%20https%3a%2f%2fwww.googleapis.com%2fauth%2fpeopleapi.readonly&response_type=code\n",
            "\n",
            "Enter your authorization code:\n",
            "··········\n",
            "Mounted at /content/drive\n"
          ],
          "name": "stdout"
        }
      ]
    },
    {
      "cell_type": "code",
      "metadata": {
        "id": "rUI8Ukot8l0k",
        "colab_type": "code",
        "colab": {}
      },
      "source": [
        "import numpy as np\n",
        "import pandas as pd\n",
        "import re\n",
        "import urllib.request\n",
        "from nltk.tokenize import word_tokenize, sent_tokenize\n",
        "from math import log\n",
        "from sklearn.feature_extraction.text import CountVectorizer\n",
        "import matplotlib.pyplot as plt\n"
      ],
      "execution_count": 2,
      "outputs": []
    },
    {
      "cell_type": "code",
      "metadata": {
        "scrolled": true,
        "id": "tt7m22jq8l0n",
        "colab_type": "code",
        "colab": {}
      },
      "source": [
        "#stock = pd.read_csv('/content/drive/My Drive/stock_data.csv')\n",
        "L_senti = pd.read_csv('/content/drive/My Drive/train.csv')"
      ],
      "execution_count": 3,
      "outputs": []
    },
    {
      "cell_type": "code",
      "metadata": {
        "id": "4Uo4U0bb8l0u",
        "colab_type": "code",
        "colab": {}
      },
      "source": [
        "#stock"
      ],
      "execution_count": 4,
      "outputs": []
    },
    {
      "cell_type": "code",
      "metadata": {
        "id": "psrZk0hP8l0w",
        "colab_type": "code",
        "colab": {}
      },
      "source": [
        "contents = list(np.array(L_senti['text'].tolist()))\n",
        "label = list(np.array(L_senti['sentiment'].tolist()))\n",
        "#contents = list(np.array(stock['Text'].tolist()))\n",
        "cnts_N = contents[:1000]+contents[-1000:]\n",
        "label_N = label[:1000]+label[-1000:]\n",
        "#cnts_N = contents[:1000]"
      ],
      "execution_count": 5,
      "outputs": []
    },
    {
      "cell_type": "code",
      "metadata": {
        "id": "-09upHfVhXTY",
        "colab_type": "code",
        "colab": {
          "base_uri": "https://localhost:8080/",
          "height": 35
        },
        "outputId": "2239f2fa-bff3-4450-f3d9-19a63f00e966"
      },
      "source": [
        "label_N[-5:]"
      ],
      "execution_count": 54,
      "outputs": [
        {
          "output_type": "execute_result",
          "data": {
            "text/plain": [
              "[1, 1, 1, 1, 1]"
            ]
          },
          "metadata": {
            "tags": []
          },
          "execution_count": 54
        }
      ]
    },
    {
      "cell_type": "markdown",
      "metadata": {
        "id": "gUgT77vN8l0y",
        "colab_type": "text"
      },
      "source": [
        "## Preprocessing"
      ]
    },
    {
      "cell_type": "code",
      "metadata": {
        "id": "aCYt7UB28l0y",
        "colab_type": "code",
        "colab": {}
      },
      "source": [
        "from nltk.corpus import stopwords\n",
        "from nltk.tokenize import word_tokenize "
      ],
      "execution_count": 7,
      "outputs": []
    },
    {
      "cell_type": "code",
      "metadata": {
        "id": "o30r72yt8l02",
        "colab_type": "code",
        "colab": {}
      },
      "source": [
        "script_m = []\n",
        "for scr in cnts_N:\n",
        "    scr = re.sub('\\(', ' ', scr)\n",
        "    scr = re.sub('\\)', ' ', scr)\n",
        "    scr = re.sub('[^ a-zA-Zㄱ-힗]', '', scr)\n",
        "    script_m.append(scr.lower())"
      ],
      "execution_count": 8,
      "outputs": []
    },
    {
      "cell_type": "code",
      "metadata": {
        "id": "wCcGYRPX8l04",
        "colab_type": "code",
        "colab": {
          "base_uri": "https://localhost:8080/",
          "height": 35
        },
        "outputId": "d97781e4-4f5a-495c-c336-a7750dba3caa"
      },
      "source": [
        "len(script_m)"
      ],
      "execution_count": 9,
      "outputs": [
        {
          "output_type": "execute_result",
          "data": {
            "text/plain": [
              "2000"
            ]
          },
          "metadata": {
            "tags": []
          },
          "execution_count": 9
        }
      ]
    },
    {
      "cell_type": "code",
      "metadata": {
        "id": "iQLvlq9Y8l05",
        "colab_type": "code",
        "colab": {}
      },
      "source": [
        "normalized_text = []\n",
        "for string in script_m:\n",
        "    tokens = re.sub(r\"[^a-z0-9]+\", \" \", string)\n",
        "    normalized_text.append(tokens)"
      ],
      "execution_count": 10,
      "outputs": []
    },
    {
      "cell_type": "code",
      "metadata": {
        "id": "2M5Nu6fU9JGv",
        "colab_type": "code",
        "colab": {
          "base_uri": "https://localhost:8080/",
          "height": 107
        },
        "outputId": "980bb26f-297e-4962-ace7-90f1cfcc3532"
      },
      "source": [
        "import nltk\n",
        "nltk.download('punkt')\n",
        "nltk.download('stopwords')"
      ],
      "execution_count": 11,
      "outputs": [
        {
          "output_type": "stream",
          "text": [
            "[nltk_data] Downloading package punkt to /root/nltk_data...\n",
            "[nltk_data]   Unzipping tokenizers/punkt.zip.\n",
            "[nltk_data] Downloading package stopwords to /root/nltk_data...\n",
            "[nltk_data]   Unzipping corpora/stopwords.zip.\n"
          ],
          "name": "stdout"
        },
        {
          "output_type": "execute_result",
          "data": {
            "text/plain": [
              "True"
            ]
          },
          "metadata": {
            "tags": []
          },
          "execution_count": 11
        }
      ]
    },
    {
      "cell_type": "code",
      "metadata": {
        "id": "y-QOU_Uo8l07",
        "colab_type": "code",
        "colab": {}
      },
      "source": [
        "result = [word_tokenize(sentence) for sentence in normalized_text]"
      ],
      "execution_count": 12,
      "outputs": []
    },
    {
      "cell_type": "code",
      "metadata": {
        "id": "RDEXgpiD8l09",
        "colab_type": "code",
        "colab": {
          "base_uri": "https://localhost:8080/",
          "height": 35
        },
        "outputId": "4d2f40f2-f36a-434e-b1a9-9cd4afb376a2"
      },
      "source": [
        "len(result)"
      ],
      "execution_count": 13,
      "outputs": [
        {
          "output_type": "execute_result",
          "data": {
            "text/plain": [
              "2000"
            ]
          },
          "metadata": {
            "tags": []
          },
          "execution_count": 13
        }
      ]
    },
    {
      "cell_type": "code",
      "metadata": {
        "id": "6EsEeaBv8l0_",
        "colab_type": "code",
        "colab": {}
      },
      "source": [
        "from nltk.corpus import stopwords \n",
        "from nltk.tokenize import word_tokenize \n",
        "\n",
        "stop_words = set(stopwords.words('english')) \n",
        "\n",
        "result_stopword = []\n",
        "for st in result:\n",
        "    temp = []\n",
        "    for tk in st:\n",
        "        if tk not in stop_words: \n",
        "            temp.append(tk)\n",
        "    result_stopword.append(temp)"
      ],
      "execution_count": 14,
      "outputs": []
    },
    {
      "cell_type": "code",
      "metadata": {
        "id": "3bRpIKy58l1A",
        "colab_type": "code",
        "colab": {
          "base_uri": "https://localhost:8080/",
          "height": 35
        },
        "outputId": "ddcdf1db-b36a-407c-d829-a98e634e74d0"
      },
      "source": [
        "len(result_stopword)"
      ],
      "execution_count": 15,
      "outputs": [
        {
          "output_type": "execute_result",
          "data": {
            "text/plain": [
              "2000"
            ]
          },
          "metadata": {
            "tags": []
          },
          "execution_count": 15
        }
      ]
    },
    {
      "cell_type": "code",
      "metadata": {
        "id": "-eTZbs_t9fkO",
        "colab_type": "code",
        "colab": {}
      },
      "source": [
        "vocab = list(set(w for i in result_stopword for w in i ))\n",
        "vocab.sort()"
      ],
      "execution_count": 16,
      "outputs": []
    },
    {
      "cell_type": "code",
      "metadata": {
        "id": "6tp_XKJg8l1C",
        "colab_type": "code",
        "colab": {}
      },
      "source": [
        "check_freq = []\n",
        "for line in result_stopword:\n",
        "    for wd in line:\n",
        "        check_freq.append(wd)"
      ],
      "execution_count": 17,
      "outputs": []
    },
    {
      "cell_type": "code",
      "metadata": {
        "id": "r0sbs6LS8l1E",
        "colab_type": "code",
        "colab": {}
      },
      "source": [
        "from nltk import FreqDist\n",
        "fdist = FreqDist(check_freq)"
      ],
      "execution_count": 18,
      "outputs": []
    },
    {
      "cell_type": "code",
      "metadata": {
        "id": "ypkd6vL38l1F",
        "colab_type": "code",
        "colab": {
          "base_uri": "https://localhost:8080/",
          "height": 35
        },
        "outputId": "e0ad2e69-332f-4c8f-9689-f8250c7696aa"
      },
      "source": [
        "low_freq = []\n",
        "for i in vocab:\n",
        "    if fdist[i] < 4:\n",
        "        low_freq.append(i)\n",
        "        \n",
        "len(low_freq)"
      ],
      "execution_count": 19,
      "outputs": [
        {
          "output_type": "execute_result",
          "data": {
            "text/plain": [
              "20974"
            ]
          },
          "metadata": {
            "tags": []
          },
          "execution_count": 19
        }
      ]
    },
    {
      "cell_type": "code",
      "metadata": {
        "id": "ApMGiXSm8l1H",
        "colab_type": "code",
        "colab": {}
      },
      "source": [
        "stop_words = list(stop_words)\n",
        "for i in low_freq:\n",
        "    stop_words.append(i)\n",
        "\n",
        "final_result = []\n",
        "for st in result_stopword:\n",
        "    temp = []\n",
        "    for tk in st:\n",
        "        if tk not in stop_words: \n",
        "            temp.append(tk)\n",
        "    final_result.append(temp)"
      ],
      "execution_count": 20,
      "outputs": []
    },
    {
      "cell_type": "code",
      "metadata": {
        "id": "1YFmt9LJd-mM",
        "colab_type": "code",
        "colab": {
          "base_uri": "https://localhost:8080/",
          "height": 315
        },
        "outputId": "6826f967-612e-4d2a-c439-5c4570d35560"
      },
      "source": [
        "print('리뷰의 최대 길이 :',max(len(l) for l in final_result))\n",
        "print('리뷰의 평균 길이 :',sum(map(len, final_result))/len(final_result))\n",
        "plt.hist([len(s) for s in final_result], bins=50)\n",
        "plt.xlabel('length of samples')\n",
        "plt.ylabel('number of samples')\n",
        "plt.show()"
      ],
      "execution_count": 21,
      "outputs": [
        {
          "output_type": "stream",
          "text": [
            "리뷰의 최대 길이 : 707\n",
            "리뷰의 평균 길이 : 105.589\n"
          ],
          "name": "stdout"
        },
        {
          "output_type": "display_data",
          "data": {
            "image/png": "[encoded data removed]",
            "text/plain": [
              "<Figure size 432x288 with 1 Axes>"
            ]
          },
          "metadata": {
            "tags": [],
            "needs_background": "light"
          }
        }
      ]
    },
    {
      "cell_type": "code",
      "metadata": {
        "id": "XBRX-DaQ8l1J",
        "colab_type": "code",
        "colab": {}
      },
      "source": [
        "vocab = list(set(w for i in final_result for w in i ))\n",
        "vocab.sort()"
      ],
      "execution_count": 22,
      "outputs": []
    },
    {
      "cell_type": "code",
      "metadata": {
        "scrolled": true,
        "id": "83CDdZzv8l1K",
        "colab_type": "code",
        "colab": {
          "base_uri": "https://localhost:8080/",
          "height": 35
        },
        "outputId": "fd3b34d6-df89-41b6-92d2-5bdd95dee77b"
      },
      "source": [
        "len(vocab)"
      ],
      "execution_count": 23,
      "outputs": [
        {
          "output_type": "execute_result",
          "data": {
            "text/plain": [
              "8039"
            ]
          },
          "metadata": {
            "tags": []
          },
          "execution_count": 23
        }
      ]
    },
    {
      "cell_type": "code",
      "metadata": {
        "id": "GXtuLMtYj9-m",
        "colab_type": "code",
        "colab": {
          "base_uri": "https://localhost:8080/",
          "height": 91
        },
        "outputId": "9ad55183-24be-4aa9-fbf4-7a71fb92d85b"
      },
      "source": [
        "corp = []\n",
        "for sent in final_result:\n",
        "  tmp = \" \".join(sent)\n",
        "  corp.append(tmp)\n",
        "\n",
        "corp[:3]"
      ],
      "execution_count": 24,
      "outputs": [
        {
          "output_type": "execute_result",
          "data": {
            "text/plain": [
              "['movie gets respect sure lot memorable quotes listed gem imagine movie joe actually funny maureen scene character absolute scream watch alan hale jr police sgt',\n",
              " 'bizarre horror movie filled famous faces stolen raines later tvs road pretty somewhat unstable model smile pay attempted suicides hell scenes raines well captured mood music perfect charming pal raines moves creepy brooklyn heights inhabited blind priest top floor things really start cooking neighbors including fantastically wicked couple miles beverly diabolical lot great fun police detective movie nearly rosemarys baby combination based jeffrey sentinel spooky full shocks brought well director michael winner ending skill',\n",
              " 'solid film matthau einstein wonderful favorite part thing would make go way see wonderful scene playing loved conversation waited robbins retrieve']"
            ]
          },
          "metadata": {
            "tags": []
          },
          "execution_count": 24
        }
      ]
    },
    {
      "cell_type": "markdown",
      "metadata": {
        "id": "vc93VJk2hGLs",
        "colab_type": "text"
      },
      "source": [
        "Word2vec"
      ]
    },
    {
      "cell_type": "code",
      "metadata": {
        "id": "Gn1AsO2FhFQu",
        "colab_type": "code",
        "colab": {}
      },
      "source": [
        "embedding_size = 1    \n",
        "mincount = 3    # 최소 n번 이상 나온 단어만 사용"
      ],
      "execution_count": 25,
      "outputs": []
    },
    {
      "cell_type": "code",
      "metadata": {
        "id": "r785e_HphFWV",
        "colab_type": "code",
        "colab": {}
      },
      "source": [
        "from gensim.models import Word2Vec\n",
        "\n",
        "w2v_model = Word2Vec(sentences=final_result, size=embedding_size, window=5, min_count=mincount, workers=3, sg=0)"
      ],
      "execution_count": 26,
      "outputs": []
    },
    {
      "cell_type": "code",
      "metadata": {
        "id": "UJZzky29hFTy",
        "colab_type": "code",
        "colab": {
          "base_uri": "https://localhost:8080/",
          "height": 35
        },
        "outputId": "b1cd8cfa-ff86-482d-efda-f67a46b04823"
      },
      "source": [
        "w2v_model.wv.vectors.shape"
      ],
      "execution_count": 27,
      "outputs": [
        {
          "output_type": "execute_result",
          "data": {
            "text/plain": [
              "(8039, 1)"
            ]
          },
          "metadata": {
            "tags": []
          },
          "execution_count": 27
        }
      ]
    },
    {
      "cell_type": "code",
      "metadata": {
        "id": "oA4HjLuMhFHm",
        "colab_type": "code",
        "colab": {
          "base_uri": "https://localhost:8080/",
          "height": 143
        },
        "outputId": "2cb4d3da-383f-4ee8-9bde-af2ce8fd86a7"
      },
      "source": [
        "w2v_array = w2v_model.wv.vectors\n",
        "w2v_array"
      ],
      "execution_count": 28,
      "outputs": [
        {
          "output_type": "execute_result",
          "data": {
            "text/plain": [
              "array([[-3.9749897 ],\n",
              "       [-4.0974364 ],\n",
              "       [-4.120848  ],\n",
              "       ...,\n",
              "       [-0.2185476 ],\n",
              "       [-0.82478905],\n",
              "       [-0.5534719 ]], dtype=float32)"
            ]
          },
          "metadata": {
            "tags": []
          },
          "execution_count": 28
        }
      ]
    },
    {
      "cell_type": "code",
      "metadata": {
        "id": "rDv2uguE1M6l",
        "colab_type": "code",
        "colab": {}
      },
      "source": [
        "w2v_dict = {}\n",
        "\n",
        "for i in range(len(vocab)):\n",
        "  w2v_dict[vocab[i]] = w2v_array[i][0]"
      ],
      "execution_count": 29,
      "outputs": []
    },
    {
      "cell_type": "code",
      "metadata": {
        "id": "L-fQe7xfcNMW",
        "colab_type": "code",
        "colab": {}
      },
      "source": [
        "#공백과 미학습 단어 처리를 위한 사전 정보 추가  \n",
        "w2v_dict['_PAD_'] = 0\n",
        "w2v_dict['_UNK_'] = 1"
      ],
      "execution_count": 81,
      "outputs": []
    },
    {
      "cell_type": "code",
      "metadata": {
        "id": "7zrvrFEafK3H",
        "colab_type": "code",
        "colab": {
          "base_uri": "https://localhost:8080/",
          "height": 1000
        },
        "outputId": "727f72b9-6abd-4a96-ab97-8c8f584f02f1"
      },
      "source": [
        "w2v_dict"
      ],
      "execution_count": 74,
      "outputs": [
        {
          "output_type": "execute_result",
          "data": {
            "text/plain": [
              "{'aaa': -3.9749897,\n",
              " 'aag': -4.0974364,\n",
              " 'aaron': -4.120848,\n",
              " 'abandon': -4.002571,\n",
              " 'abandoned': -3.9089649,\n",
              " 'abby': -4.1371903,\n",
              " 'abc': -4.1352906,\n",
              " 'abducted': -4.058103,\n",
              " 'abilities': -3.9485385,\n",
              " 'ability': -3.9617987,\n",
              " 'able': -4.2108397,\n",
              " 'abomination': -3.9439101,\n",
              " 'abraham': -4.2006063,\n",
              " 'abrupt': -3.961128,\n",
              " 'abruptly': -4.0494976,\n",
              " 'absence': -4.41989,\n",
              " 'absolute': -4.165423,\n",
              " 'absolutely': -3.9887774,\n",
              " 'absurd': -4.221319,\n",
              " 'absurdity': -4.1998777,\n",
              " 'abundance': -4.231452,\n",
              " 'abuse': -4.418778,\n",
              " 'abused': -4.1954136,\n",
              " 'abusive': -4.0319815,\n",
              " 'abysmal': -4.1032815,\n",
              " 'academy': -4.3484735,\n",
              " 'accent': -4.035963,\n",
              " 'accents': -3.9228933,\n",
              " 'accept': -4.0426154,\n",
              " 'acceptable': -4.1949587,\n",
              " 'acceptance': -4.4127684,\n",
              " 'accepted': -4.11062,\n",
              " 'accepting': -4.1822696,\n",
              " 'accepts': -4.0548496,\n",
              " 'access': -4.2846556,\n",
              " 'accessible': -4.5272145,\n",
              " 'accident': -4.0287237,\n",
              " 'accidentally': -4.311896,\n",
              " 'acclaimed': -4.3342714,\n",
              " 'accompanied': -4.2350965,\n",
              " 'accomplish': -4.225854,\n",
              " 'accomplished': -4.4916816,\n",
              " 'according': -4.387713,\n",
              " 'account': -4.081617,\n",
              " 'accounts': -4.370945,\n",
              " 'accuracy': -4.3496857,\n",
              " 'accurate': -4.3409843,\n",
              " 'accurately': -4.3065777,\n",
              " 'accused': -3.9827743,\n",
              " 'ace': -4.2542815,\n",
              " 'achieve': -4.4021745,\n",
              " 'achieved': -4.0627656,\n",
              " 'achievement': -4.505318,\n",
              " 'achieves': -4.2998333,\n",
              " 'achieving': -4.3759604,\n",
              " 'acid': -4.1475835,\n",
              " 'across': -4.1235814,\n",
              " 'act': -4.3335524,\n",
              " 'acted': -4.283835,\n",
              " 'acting': -4.271901,\n",
              " 'action': -4.077501,\n",
              " 'actions': -4.5200872,\n",
              " 'active': -4.386844,\n",
              " 'actively': -4.4811463,\n",
              " 'activist': -4.452278,\n",
              " 'activities': -4.4284487,\n",
              " 'actor': -4.2051477,\n",
              " 'actors': -4.7167883,\n",
              " 'actress': -4.2780347,\n",
              " 'actresses': -4.353616,\n",
              " 'acts': -4.3463507,\n",
              " 'actual': -4.638294,\n",
              " 'actually': -4.230394,\n",
              " 'ad': -4.5034475,\n",
              " 'adam': -4.4770927,\n",
              " 'adams': -4.224758,\n",
              " 'adapt': -4.235332,\n",
              " 'adaptation': -4.2818723,\n",
              " 'adaptations': -4.1639414,\n",
              " 'adapted': -4.7725053,\n",
              " 'add': -4.7346344,\n",
              " 'added': -4.350892,\n",
              " 'addict': -4.6653323,\n",
              " 'addicted': -4.378624,\n",
              " 'addiction': -4.2129693,\n",
              " 'adding': -4.475664,\n",
              " 'addition': -4.3652096,\n",
              " 'additional': -4.3348103,\n",
              " 'address': -4.3377194,\n",
              " 'adds': -4.403685,\n",
              " 'adequate': -4.0585675,\n",
              " 'adjust': -4.5481024,\n",
              " 'admirable': -4.6972394,\n",
              " 'admiration': -4.3495784,\n",
              " 'admire': -4.5696974,\n",
              " 'admired': -4.122356,\n",
              " 'admission': -4.034921,\n",
              " 'admit': -4.5666566,\n",
              " 'admitted': -4.241332,\n",
              " 'admittedly': -4.6313725,\n",
              " 'adolescent': -4.6105447,\n",
              " 'adopt': -3.7134707,\n",
              " 'adopted': -4.2166634,\n",
              " 'adoption': -4.678361,\n",
              " 'adopts': -4.50667,\n",
              " 'adorable': -4.4578924,\n",
              " 'adore': -4.426706,\n",
              " 'ads': -4.164243,\n",
              " 'adult': -4.1739116,\n",
              " 'adults': -4.522777,\n",
              " 'advance': -4.1650243,\n",
              " 'advanced': -4.2982864,\n",
              " 'advantage': -4.3115215,\n",
              " 'adventure': -4.1954103,\n",
              " 'adventures': -4.453059,\n",
              " 'advertising': -4.2640395,\n",
              " 'advice': -4.355871,\n",
              " 'advise': -4.535785,\n",
              " 'advised': -4.2105436,\n",
              " 'affair': -4.246348,\n",
              " 'affairs': -4.3342986,\n",
              " 'affect': -4.339652,\n",
              " 'affected': -4.3607035,\n",
              " 'affection': -4.334645,\n",
              " 'affectionate': -4.3209147,\n",
              " 'affects': -4.3832855,\n",
              " 'afflicted': -4.8308992,\n",
              " 'afford': -4.4839115,\n",
              " 'aforementioned': -4.3506713,\n",
              " 'afraid': -3.9436092,\n",
              " 'africa': -4.0125785,\n",
              " 'african': -4.623621,\n",
              " 'africanamerican': -4.3044147,\n",
              " 'aftermath': -4.4068303,\n",
              " 'afternoon': -4.461801,\n",
              " 'afterward': -4.0094323,\n",
              " 'afterwards': -4.7015758,\n",
              " 'age': -4.5889215,\n",
              " 'aged': -4.276055,\n",
              " 'agency': -4.439468,\n",
              " 'agent': -4.692749,\n",
              " 'agents': -3.9306378,\n",
              " 'ages': -4.510702,\n",
              " 'aggressive': -4.0796595,\n",
              " 'aging': -4.621976,\n",
              " 'ago': -4.5456557,\n",
              " 'agree': -4.373188,\n",
              " 'agreed': -4.3596697,\n",
              " 'agrees': -4.2814426,\n",
              " 'ah': -4.2572837,\n",
              " 'ahead': -4.0949264,\n",
              " 'aid': -4.2096415,\n",
              " 'aided': -4.5376973,\n",
              " 'aim': -4.6099787,\n",
              " 'aimed': -4.6672378,\n",
              " 'aiming': -4.777219,\n",
              " 'aint': -4.1353216,\n",
              " 'air': -3.948784,\n",
              " 'aircraft': -4.565363,\n",
              " 'aired': -4.2241626,\n",
              " 'airing': -3.993445,\n",
              " 'airplane': -4.3393188,\n",
              " 'airport': -4.3071375,\n",
              " 'aka': -4.5791245,\n",
              " 'akin': -4.1858964,\n",
              " 'akshay': -4.115676,\n",
              " 'al': -3.9241269,\n",
              " 'ala': -4.081058,\n",
              " 'alabamas': -4.693975,\n",
              " 'alan': -3.9557424,\n",
              " 'alarm': -4.4235945,\n",
              " 'alas': -4.199096,\n",
              " 'alba': -4.153511,\n",
              " 'albeit': -4.7294693,\n",
              " 'albert': -4.1165314,\n",
              " 'album': -4.1723223,\n",
              " 'alcohol': -3.9855669,\n",
              " 'alcoholic': -4.279225,\n",
              " 'alecia': -4.359664,\n",
              " 'alex': -4.1935987,\n",
              " 'alexander': -4.2981462,\n",
              " 'alexs': -3.925932,\n",
              " 'alfred': -4.416224,\n",
              " 'ali': -4.416902,\n",
              " 'alice': -4.0822897,\n",
              " 'alien': -4.3098955,\n",
              " 'alienate': -4.2780848,\n",
              " 'alienation': -4.03245,\n",
              " 'aliens': -4.110518,\n",
              " 'alike': -4.1990786,\n",
              " 'alison': -3.9677484,\n",
              " 'alive': -3.851481,\n",
              " 'alleged': -4.250798,\n",
              " 'allegory': -3.808093,\n",
              " 'allen': -3.7272203,\n",
              " 'allens': -4.503026,\n",
              " 'alley': -3.76272,\n",
              " 'alliance': -4.713494,\n",
              " 'allied': -4.022307,\n",
              " 'allow': -4.220897,\n",
              " 'allowed': -3.8823228,\n",
              " 'allowing': -4.1267004,\n",
              " 'allows': -3.6404095,\n",
              " 'alltime': -3.6964524,\n",
              " 'alluring': -3.4770443,\n",
              " 'almost': -4.006282,\n",
              " 'alois': -3.9484365,\n",
              " 'alone': -4.5143347,\n",
              " 'along': -4.90991,\n",
              " 'alongside': -4.404809,\n",
              " 'already': -4.551679,\n",
              " 'alright': -4.3408318,\n",
              " 'also': -4.470155,\n",
              " 'alter': -4.399739,\n",
              " 'altering': -4.3765254,\n",
              " 'alternative': -4.5061226,\n",
              " 'although': -4.4089346,\n",
              " 'altman': -4.277985,\n",
              " 'altmans': -4.002435,\n",
              " 'altogether': -4.3938465,\n",
              " 'alvin': -4.3572116,\n",
              " 'always': -3.800842,\n",
              " 'amanda': -4.084564,\n",
              " 'amateur': -4.490173,\n",
              " 'amateurish': -3.678319,\n",
              " 'amati': -4.2310653,\n",
              " 'amazed': -4.3627887,\n",
              " 'amazing': -4.419114,\n",
              " 'amazingly': -4.207527,\n",
              " 'amber': -4.38093,\n",
              " 'ambiance': -4.256013,\n",
              " 'ambiguous': -4.40575,\n",
              " 'ambition': -3.8607225,\n",
              " 'ambitious': -3.7110379,\n",
              " 'amelie': -3.6124783,\n",
              " 'america': -3.8411255,\n",
              " 'american': -4.5049086,\n",
              " 'americans': -4.055635,\n",
              " 'americas': -3.728833,\n",
              " 'amicus': -3.7489138,\n",
              " 'amidst': -4.103349,\n",
              " 'amitabh': -4.213219,\n",
              " 'amok': -3.5455308,\n",
              " 'among': -4.22628,\n",
              " 'amongst': -4.1706805,\n",
              " 'amoral': -4.362998,\n",
              " 'amount': -3.9904473,\n",
              " 'amounts': -3.8348224,\n",
              " 'amrita': -3.7494137,\n",
              " 'amuse': -4.0141954,\n",
              " 'amusement': -4.0249395,\n",
              " 'amusing': -4.1287127,\n",
              " 'analyze': -4.1405544,\n",
              " 'analyzing': -3.752155,\n",
              " 'anchorman': -4.352071,\n",
              " 'ancient': -4.6391773,\n",
              " 'anderson': -4.134093,\n",
              " 'andor': -3.8670335,\n",
              " 'andrea': -4.106458,\n",
              " 'andrew': -3.8116727,\n",
              " 'andrews': -4.2000136,\n",
              " 'andy': -3.6991491,\n",
              " 'anemic': -4.059462,\n",
              " 'angel': -4.6080084,\n",
              " 'angela': -3.7287087,\n",
              " 'angeles': -3.9735353,\n",
              " 'angels': -4.127146,\n",
              " 'anger': -4.204583,\n",
              " 'angle': -4.070078,\n",
              " 'angles': -3.6647856,\n",
              " 'angry': -4.298328,\n",
              " 'anil': -4.0415435,\n",
              " 'animal': -3.7569418,\n",
              " 'animals': -3.246216,\n",
              " 'animated': -3.7756064,\n",
              " 'animation': -4.2003617,\n",
              " 'animators': -4.4133644,\n",
              " 'anime': -4.3052444,\n",
              " 'anita': -4.156577,\n",
              " 'ann': -4.288807,\n",
              " 'anna': -3.8644536,\n",
              " 'anne': -4.6889157,\n",
              " 'annie': -3.4319649,\n",
              " 'annoy': -4.042265,\n",
              " 'annoyed': -4.0025053,\n",
              " 'annoying': -3.833445,\n",
              " 'another': -4.163682,\n",
              " 'anouska': -3.8109107,\n",
              " 'answer': -3.87194,\n",
              " 'answers': -3.6476145,\n",
              " 'antagonist': -3.7159278,\n",
              " 'anthologies': -4.5385156,\n",
              " 'anthony': -3.7456489,\n",
              " 'anticipated': -4.0661945,\n",
              " 'anticipation': -4.068384,\n",
              " 'anticlimactic': -3.9008257,\n",
              " 'antics': -3.853498,\n",
              " 'antidote': -4.291251,\n",
              " 'antonio': -3.8598938,\n",
              " 'antonioni': -4.0890284,\n",
              " 'ants': -3.5368996,\n",
              " 'antwone': -3.6174324,\n",
              " 'anxious': -4.1353073,\n",
              " 'anybody': -3.5444086,\n",
              " 'anymore': -4.176889,\n",
              " 'anyone': -3.924189,\n",
              " 'anyones': -3.4962487,\n",
              " 'anything': -3.9119303,\n",
              " 'anytime': -3.689413,\n",
              " 'anyway': -3.7902346,\n",
              " 'anyways': -3.3334186,\n",
              " 'anywhere': -3.8484674,\n",
              " 'apart': -3.9953105,\n",
              " 'apartment': -4.075663,\n",
              " 'apartments': -3.817903,\n",
              " 'ape': -3.233012,\n",
              " 'apes': -3.7713635,\n",
              " 'apocalypse': -4.044146,\n",
              " 'appalling': -3.8325226,\n",
              " 'apparent': -3.593994,\n",
              " 'apparently': -3.9341502,\n",
              " 'appeal': -3.9984004,\n",
              " 'appealing': -4.1725726,\n",
              " 'appeals': -4.1279883,\n",
              " 'appear': -3.8194292,\n",
              " 'appearance': -3.614216,\n",
              " 'appearances': -4.26611,\n",
              " 'appeared': -3.5500512,\n",
              " 'appearing': -3.951344,\n",
              " 'appears': -3.7664428,\n",
              " 'applaud': -3.2245493,\n",
              " 'apple': -3.8298247,\n",
              " 'applied': -3.6423485,\n",
              " 'applies': -3.7875998,\n",
              " 'appreciate': -3.4399488,\n",
              " 'appreciated': -4.180182,\n",
              " 'appreciation': -3.268817,\n",
              " 'approach': -4.146928,\n",
              " 'approached': -3.4166102,\n",
              " 'approaches': -3.8806524,\n",
              " 'approaching': -3.8097978,\n",
              " 'appropriate': -3.8152454,\n",
              " 'appropriately': -3.5114048,\n",
              " 'approximately': -3.8195128,\n",
              " 'april': -3.9933054,\n",
              " 'apt': -3.9841764,\n",
              " 'arab': -3.4022532,\n",
              " 'arch': -3.6857529,\n",
              " 'archer': -3.7144372,\n",
              " 'archibald': -4.162513,\n",
              " 'ardolino': -3.604902,\n",
              " 'area': -4.034964,\n",
              " 'areas': -4.09804,\n",
              " 'arent': -3.942222,\n",
              " 'arguably': -3.6003141,\n",
              " 'argue': -3.6841574,\n",
              " 'argument': -3.5557163,\n",
              " 'arguments': -3.4400582,\n",
              " 'arise': -3.6225438,\n",
              " 'arizona': -3.7182126,\n",
              " 'arkin': -4.0942063,\n",
              " 'arm': -3.8177636,\n",
              " 'armed': -3.5342364,\n",
              " 'arms': -3.5121846,\n",
              " 'army': -3.3874373,\n",
              " 'arnold': -4.051031,\n",
              " 'around': -3.4850159,\n",
              " 'array': -3.7016158,\n",
              " 'arrested': -3.4744453,\n",
              " 'arrival': -3.8709295,\n",
              " 'arrive': -3.6055017,\n",
              " 'arrives': -3.505098,\n",
              " 'arriving': -3.670194,\n",
              " 'arrogance': -3.7873132,\n",
              " 'arrogant': -3.513873,\n",
              " 'arrondissement': -3.8312232,\n",
              " 'arrows': -3.745481,\n",
              " 'art': -3.707855,\n",
              " 'artemisia': -3.552377,\n",
              " 'arthouse': -3.8482492,\n",
              " 'arthur': -3.9905725,\n",
              " 'article': -3.2288942,\n",
              " 'artificial': -4.2635884,\n",
              " 'artist': -3.1429386,\n",
              " 'artistic': -3.7683477,\n",
              " 'artistry': -3.7000196,\n",
              " 'artists': -3.9159055,\n",
              " 'arts': -3.5289052,\n",
              " 'artsy': -4.0818214,\n",
              " 'ashamed': -3.3358576,\n",
              " 'ashley': -4.137793,\n",
              " 'ashraf': -3.433112,\n",
              " 'asian': -4.0609055,\n",
              " 'aside': -3.694332,\n",
              " 'ask': -3.5761626,\n",
              " 'asked': -3.8775718,\n",
              " 'askey': -3.7721467,\n",
              " 'asking': -3.7994835,\n",
              " 'asks': -3.239995,\n",
              " 'asleep': -3.5900347,\n",
              " 'aspect': -2.7848008,\n",
              " 'aspects': -3.5561926,\n",
              " 'ass': -3.5133414,\n",
              " 'assassin': -3.2579439,\n",
              " 'assassination': -3.2429125,\n",
              " 'assembled': -3.6203125,\n",
              " 'assigned': -3.3339107,\n",
              " 'assignment': -4.155663,\n",
              " 'assistant': -3.2497554,\n",
              " 'assistants': -3.082374,\n",
              " 'associate': -3.6003075,\n",
              " 'associated': -3.9418018,\n",
              " 'assume': -3.2155502,\n",
              " 'assumed': -3.301042,\n",
              " 'assuming': -3.4877267,\n",
              " 'assure': -3.2223551,\n",
              " 'astonished': -4.082935,\n",
              " 'astonishing': -2.885012,\n",
              " 'astral': -3.3096468,\n",
              " 'astronauts': -3.4703794,\n",
              " 'asylum': -2.853728,\n",
              " 'atkins': -3.2154636,\n",
              " 'atlantian': -3.5925,\n",
              " 'atlantians': -3.590256,\n",
              " 'atlantis': -3.271116,\n",
              " 'atmosphere': -3.0084407,\n",
              " 'atmospheric': -3.2145638,\n",
              " 'atrocious': -3.0924985,\n",
              " 'atrocity': -3.4311666,\n",
              " 'attached': -3.3289423,\n",
              " 'attachment': -3.672474,\n",
              " 'attack': -3.3713212,\n",
              " 'attacked': -3.2732306,\n",
              " 'attacks': -3.5839243,\n",
              " 'attempt': -3.4301755,\n",
              " 'attempted': -3.7150953,\n",
              " 'attempting': -3.5923598,\n",
              " 'attempts': -3.365877,\n",
              " 'attend': -3.26639,\n",
              " 'attended': -3.0241234,\n",
              " 'attention': -3.76079,\n",
              " 'attic': -3.0396223,\n",
              " 'attitude': -3.3490996,\n",
              " 'attorney': -3.0905619,\n",
              " 'attract': -3.255501,\n",
              " 'attracted': -3.4366348,\n",
              " 'attraction': -3.8534863,\n",
              " 'attractive': -3.5632544,\n",
              " 'attributes': -3.8944795,\n",
              " 'atwill': -3.1540697,\n",
              " 'audience': -3.4626238,\n",
              " 'audiences': -3.822922,\n",
              " 'audio': -3.6836743,\n",
              " 'audrey': -3.673726,\n",
              " 'august': -3.7405562,\n",
              " 'aunt': -3.5012038,\n",
              " 'aunts': -3.0261261,\n",
              " 'aura': -3.3567615,\n",
              " 'austin': -3.0810893,\n",
              " 'australia': -3.6215496,\n",
              " 'australian': -3.03995,\n",
              " 'auteur': -3.3615983,\n",
              " 'authentic': -3.2957566,\n",
              " 'authenticity': -3.258398,\n",
              " 'author': -3.4311645,\n",
              " 'authorities': -3.6676202,\n",
              " 'authority': -3.140299,\n",
              " 'authors': -3.5535884,\n",
              " 'automatic': -3.0806513,\n",
              " 'automatically': -3.6572995,\n",
              " 'available': -2.9855058,\n",
              " 'avalanche': -2.926913,\n",
              " 'avenge': -3.3152127,\n",
              " 'average': -3.2823718,\n",
              " 'avery': -3.180021,\n",
              " 'avid': -3.4503925,\n",
              " 'aviv': -2.5190003,\n",
              " 'avoid': -3.2199357,\n",
              " 'avoided': -3.5421753,\n",
              " 'avoiding': -3.375314,\n",
              " 'awake': -3.0725248,\n",
              " 'awakening': -3.5322633,\n",
              " 'award': -3.0823166,\n",
              " 'awards': -3.6601355,\n",
              " 'aware': -3.9963923,\n",
              " 'awareness': -3.5289857,\n",
              " 'away': -3.5553489,\n",
              " 'awe': -2.934658,\n",
              " 'awesome': -3.3256898,\n",
              " 'awful': -3.6513236,\n",
              " 'awfully': -3.8296282,\n",
              " 'awhile': -2.8748515,\n",
              " 'awkward': -3.4418883,\n",
              " 'awry': -3.675214,\n",
              " 'axe': -3.4347541,\n",
              " 'ayers': -3.0408282,\n",
              " 'azaria': -3.6597886,\n",
              " 'aztec': -3.5367088,\n",
              " 'azumi': -3.452929,\n",
              " 'b': -3.4472787,\n",
              " 'babban': -3.7139974,\n",
              " 'babe': -3.320283,\n",
              " 'babes': -2.91322,\n",
              " 'babies': -3.5145752,\n",
              " 'baby': -3.9507422,\n",
              " 'bacall': -3.1231716,\n",
              " 'bachelor': -2.949769,\n",
              " 'bachman': -3.0619028,\n",
              " 'back': -3.0560145,\n",
              " 'backdrop': -2.6158226,\n",
              " 'backed': -3.3665504,\n",
              " 'background': -3.4202805,\n",
              " 'backgrounds': -2.9959166,\n",
              " 'backs': -3.5664673,\n",
              " 'backwards': -3.2629838,\n",
              " 'backwoods': -3.5658536,\n",
              " 'bacon': -2.830178,\n",
              " 'bad': -3.2847357,\n",
              " 'badly': -3.791853,\n",
              " 'badness': -2.9551613,\n",
              " 'bafta': -3.5569546,\n",
              " 'bag': -2.9951174,\n",
              " 'baker': -2.9616666,\n",
              " 'bakshi': -3.6120377,\n",
              " 'balance': -2.9839303,\n",
              " 'balanced': -3.16447,\n",
              " 'bald': -2.9857469,\n",
              " 'baldwin': -3.5113244,\n",
              " 'ball': -2.404725,\n",
              " 'ballet': -2.7307997,\n",
              " 'ballroom': -3.0085425,\n",
              " 'balls': -3.4197252,\n",
              " 'baloo': -3.2635365,\n",
              " 'bamboo': -3.6293428,\n",
              " 'banal': -2.717632,\n",
              " 'band': -2.963263,\n",
              " 'bands': -3.3062394,\n",
              " 'bang': -3.2553754,\n",
              " 'bank': -3.1901324,\n",
              " 'bankrupt': -2.7546945,\n",
              " 'banned': -3.078167,\n",
              " 'bar': -2.9853907,\n",
              " 'barbara': -3.4231653,\n",
              " 'barbra': -3.260432,\n",
              " 'bare': -2.8816385,\n",
              " 'barely': -3.034959,\n",
              " 'barkers': -3.859139,\n",
              " 'barrel': -3.2484095,\n",
              " 'barry': -3.1535118,\n",
              " 'base': -3.2983785,\n",
              " 'baseball': -3.5649464,\n",
              " 'based': -3.2535102,\n",
              " 'basement': -2.656021,\n",
              " 'bash': -3.4255884,\n",
              " 'basic': -2.8710332,\n",
              " 'basically': -3.318803,\n",
              " 'basinger': -3.3202271,\n",
              " 'basis': -3.4685388,\n",
              " 'basket': -2.9456344,\n",
              " 'baskets': -3.6749125,\n",
              " 'bassett': -3.5709324,\n",
              " 'bastard': -3.0785575,\n",
              " 'bat': -3.2020485,\n",
              " 'bates': -2.7724502,\n",
              " 'bath': -2.6942747,\n",
              " 'bathroom': -2.9994848,\n",
              " 'batman': -3.210451,\n",
              " 'battered': -2.835183,\n",
              " 'battle': -2.7631936,\n",
              " 'battles': -3.1695666,\n",
              " 'battlestar': -2.9739122,\n",
              " 'battling': -3.4642158,\n",
              " 'bay': -3.4891381,\n",
              " 'bbc': -3.2114203,\n",
              " 'bc': -3.0912073,\n",
              " 'beach': -2.6975005,\n",
              " 'beads': -3.3791404,\n",
              " 'bear': -3.4181504,\n",
              " 'bearable': -2.9825945,\n",
              " 'beard': -3.3274815,\n",
              " 'bearing': -3.5533268,\n",
              " 'bears': -2.9880033,\n",
              " 'beast': -3.0757535,\n",
              " 'beat': -2.9751177,\n",
              " 'beaten': -3.0329025,\n",
              " 'beating': -3.5014317,\n",
              " 'beatles': -2.9355316,\n",
              " 'beats': -2.9325726,\n",
              " 'beatty': -2.5767956,\n",
              " 'beautiful': -3.422711,\n",
              " 'beautifully': -2.6552944,\n",
              " 'beauty': -2.8043323,\n",
              " 'became': -3.6888485,\n",
              " 'beckham': -2.55422,\n",
              " 'beckinsale': -3.5407228,\n",
              " 'become': -2.3071473,\n",
              " 'becomes': -2.8355298,\n",
              " 'becoming': -3.3128245,\n",
              " 'bed': -3.4164848,\n",
              " 'bedroom': -2.6544237,\n",
              " 'beer': -3.6049874,\n",
              " 'beery': -3.309135,\n",
              " 'beetle': -3.5064592,\n",
              " 'beetles': -3.0280929,\n",
              " 'befriends': -3.4611409,\n",
              " 'befuddled': -3.1914027,\n",
              " 'beg': -3.378541,\n",
              " 'began': -3.5837765,\n",
              " 'begin': -2.7560492,\n",
              " 'beginning': -3.4115472,\n",
              " 'begins': -3.651051,\n",
              " 'begs': -2.8415015,\n",
              " 'behalf': -3.2319992,\n",
              " 'behave': -2.8553836,\n",
              " 'behaves': -3.290094,\n",
              " 'behaving': -3.4903886,\n",
              " 'behavior': -2.7232773,\n",
              " 'behaviour': -2.9136426,\n",
              " 'behind': -2.603921,\n",
              " 'behold': -3.3780797,\n",
              " 'beings': -3.1666267,\n",
              " 'bela': -2.6666062,\n",
              " 'belief': -2.6923163,\n",
              " 'beliefs': -3.3235319,\n",
              " 'believable': -2.939166,\n",
              " 'believe': -2.7829816,\n",
              " 'believed': -3.0158055,\n",
              " 'believes': -3.1660738,\n",
              " 'believing': -2.7839613,\n",
              " 'bell': -2.9760041,\n",
              " 'belle': -2.9154449,\n",
              " 'belly': -2.914103,\n",
              " 'belong': -2.884245,\n",
              " 'belonged': -3.2361436,\n",
              " 'belongs': -2.5536957,\n",
              " 'beloved': -2.895211,\n",
              " 'belt': -2.9630895,\n",
              " 'belushi': -2.8572643,\n",
              " 'ben': -2.7080772,\n",
              " 'bench': -3.257591,\n",
              " 'bend': -3.1144524,\n",
              " 'beneath': -1.9874766,\n",
              " 'benefit': -3.0759945,\n",
              " 'benkei': -2.7175443,\n",
              " 'bennett': -2.787868,\n",
              " 'beowulf': -2.8129325,\n",
              " 'bergman': -3.1593802,\n",
              " 'berkeley': -3.5225067,\n",
              " 'berlin': -2.67221,\n",
              " 'bernie': -2.6721528,\n",
              " 'beside': -2.8385122,\n",
              " 'besides': -3.0895424,\n",
              " 'best': -3.3868778,\n",
              " 'bet': -2.799704,\n",
              " 'betrayal': -2.8997662,\n",
              " 'betrayed': -2.95671,\n",
              " 'bette': -3.057087,\n",
              " 'better': -3.3134563,\n",
              " 'bettie': -2.8937674,\n",
              " 'betty': -3.0681767,\n",
              " 'beverly': -2.8518424,\n",
              " 'beware': -3.4295702,\n",
              " 'beyonce': -2.7646294,\n",
              " 'beyond': -2.9600801,\n",
              " 'bgrade': -3.0842419,\n",
              " 'bias': -2.8562324,\n",
              " 'biased': -2.540233,\n",
              " 'bible': -3.3994896,\n",
              " 'biblical': -2.9833791,\n",
              " 'big': -2.6887732,\n",
              " 'bigbudget': -2.7525792,\n",
              " 'bigger': -3.4660733,\n",
              " 'biggest': -2.528093,\n",
              " 'biggie': -3.4194322,\n",
              " 'bikini': -3.0624561,\n",
              " 'bill': -3.2007585,\n",
              " 'billboard': -3.3432667,\n",
              " 'bills': -2.6978607,\n",
              " 'billy': -2.516722,\n",
              " 'bin': -2.749308,\n",
              " 'biography': -2.6682098,\n",
              " 'bird': -2.6176717,\n",
              " 'birds': -3.2373219,\n",
              " 'birth': -3.0004652,\n",
              " 'birthday': -3.0603251,\n",
              " 'bishop': -2.563934,\n",
              " 'bit': -2.8652506,\n",
              " 'bite': -3.1235135,\n",
              " 'bites': -2.403219,\n",
              " 'biting': -2.8380783,\n",
              " 'bits': -2.579174,\n",
              " 'bitten': -3.1578333,\n",
              " 'bitter': -2.8677628,\n",
              " 'bittersweet': -2.9427083,\n",
              " 'bizarre': -2.7768128,\n",
              " 'black': -2.9420743,\n",
              " 'blackadder': -2.3097298,\n",
              " 'blackandwhite': -2.9393494,\n",
              " 'blackmail': -2.0783608,\n",
              " 'blacksnake': -2.8366401,\n",
              " 'blade': -2.9045753,\n",
              " 'blah': -2.8418896,\n",
              " 'blair': -2.6651118,\n",
              " 'blake': -2.9110289,\n",
              " 'blame': -2.4099479,\n",
              " 'blamed': -3.3084178,\n",
              " 'blames': -2.535815,\n",
              " 'bland': -3.153644,\n",
              " 'blank': -2.8261602,\n",
              " 'blanks': -2.8648348,\n",
              " 'blaring': -2.3623369,\n",
              " 'blatantly': -3.0761201,\n",
              " 'blaxploitation': -3.0672152,\n",
              " 'blazing': -2.6505115,\n",
              " 'bleek': -3.1288395,\n",
              " 'blend': -3.0888593,\n",
              " 'blessed': -2.976444,\n",
              " 'blew': -2.7354758,\n",
              " 'blind': -2.5788,\n",
              " 'bliss': -2.9447536,\n",
              " 'blithely': -2.7640586,\n",
              " 'blob': -2.6840222,\n",
              " 'block': -3.0383954,\n",
              " 'blockbuster': -2.3763788,\n",
              " 'blockbusters': -2.6838672,\n",
              " 'bloke': -2.4545996,\n",
              " 'blond': -2.4383583,\n",
              " 'blonde': -2.3703573,\n",
              " 'blood': -2.5047574,\n",
              " 'bloodshed': -2.327437,\n",
              " 'bloody': -2.415488,\n",
              " 'blow': -3.1120265,\n",
              " 'blowing': -2.6546147,\n",
              " 'blown': -2.3770866,\n",
              " 'blows': -2.7545962,\n",
              " 'blue': -2.5827572,\n",
              " 'blues': -3.2564757,\n",
              " 'blunt': -2.694683,\n",
              " 'bmovie': -2.9141502,\n",
              " 'bmovies': -2.5124588,\n",
              " 'bo': -2.1645226,\n",
              " 'board': -2.8071182,\n",
              " 'boasts': -2.8676767,\n",
              " 'boat': -2.6032465,\n",
              " 'boats': -3.057722,\n",
              " 'bob': -3.0801017,\n",
              " 'bobby': -3.1624603,\n",
              " 'bodies': -2.471885,\n",
              " 'body': -2.7534719,\n",
              " 'bodyguard': -2.2285216,\n",
              " 'bogdanovich': -2.7168128,\n",
              " 'bold': -3.1286068,\n",
              " 'boll': -3.031216,\n",
              " 'bollywood': -3.3055487,\n",
              " 'boman': -2.4791641,\n",
              " 'bomb': -2.4797711,\n",
              " 'bombed': -2.6673987,\n",
              " 'bombs': -2.9891257,\n",
              " 'bond': -2.8464592,\n",
              " 'bondage': -3.203855,\n",
              " 'bone': -2.0904112,\n",
              " 'bonham': -2.4642642,\n",
              " 'bonnie': -2.4926918,\n",
              " 'boo': -2.8863547,\n",
              " 'book': -2.607465,\n",
              " 'books': -2.071862,\n",
              " 'boom': -2.3671024,\n",
              " 'boot': -2.8468845,\n",
              " 'booth': -2.910306,\n",
              " 'border': -2.8625877,\n",
              " 'bore': -2.7252562,\n",
              " 'bored': -3.0241516,\n",
              " 'boredom': -2.5870805,\n",
              " 'boring': -2.946428,\n",
              " 'born': -3.41046,\n",
              " 'borrow': -2.1732605,\n",
              " 'borrowed': -2.0419164,\n",
              " 'boss': -3.555796,\n",
              " 'bosses': -2.659621,\n",
              " 'boston': -2.5015693,\n",
              " 'bother': -2.4298613,\n",
              " 'bothered': -2.4326425,\n",
              " 'bottle': -2.542849,\n",
              " 'bottles': -2.517774,\n",
              " 'bottom': -2.7883668,\n",
              " 'bought': -2.972905,\n",
              " 'bouncing': -2.8653948,\n",
              " 'bound': -3.0354092,\n",
              " 'bourne': -3.029681,\n",
              " 'bout': -2.8267803,\n",
              " 'bow': -2.7502594,\n",
              " 'bowl': -3.0194783,\n",
              " 'box': -2.7551866,\n",
              " 'boxer': -2.6274674,\n",
              " 'boxing': -3.6294372,\n",
              " 'boy': -2.7208314,\n",
              " 'boyer': -2.5598722,\n",
              " 'boyfriend': -2.5481968,\n",
              " 'boyle': -3.0843523,\n",
              " 'boys': -3.006383,\n",
              " 'bozz': -2.9200644,\n",
              " 'brad': -3.0569952,\n",
              " 'brady': -2.2697647,\n",
              " 'brain': -2.525849,\n",
              " 'braindead': -2.3588107,\n",
              " 'brainless': -2.5977776,\n",
              " 'brains': -2.6917398,\n",
              " 'branagh': -3.1712308,\n",
              " 'branch': -2.7327511,\n",
              " 'brand': -3.0760963,\n",
              " 'brando': -2.4623148,\n",
              " 'brashear': -2.1041486,\n",
              " 'brave': -2.350719,\n",
              " 'braveheart': -2.3403816,\n",
              " 'brazil': -2.5725632,\n",
              " 'bread': -2.5147371,\n",
              " 'break': -3.2192492,\n",
              " 'breakdown': -2.8255794,\n",
              " 'breakfast': -2.1373608,\n",
              " 'breaking': -2.9426036,\n",
              " 'breaks': -2.1053357,\n",
              " 'breast': -3.048784,\n",
              " 'breasts': -2.3845148,\n",
              " 'breath': -2.3409352,\n",
              " 'breathe': -2.7642415,\n",
              " 'breathing': -2.4174168,\n",
              " 'breathtaking': -3.0674534,\n",
              " 'breathtakingly': -2.7198,\n",
              " 'breed': -2.6639044,\n",
              " 'brenda': -3.1588404,\n",
              " 'brian': -2.5003486,\n",
              " 'bride': -2.3544698,\n",
              " 'bridge': -3.2194164,\n",
              " 'bridges': -2.4114914,\n",
              " 'brief': -2.355892,\n",
              " 'briefly': -2.468441,\n",
              " 'bright': -2.1450331,\n",
              " 'brilliance': -2.6453202,\n",
              " 'brilliant': -2.8233376,\n",
              " 'brilliantly': -2.219704,\n",
              " 'bring': -2.3966486,\n",
              " 'bringing': -1.5328282,\n",
              " 'brings': -2.4437587,\n",
              " 'brit': -2.2958663,\n",
              " 'britain': -2.5236828,\n",
              " 'britains': -2.61206,\n",
              " 'british': -2.998471,\n",
              " 'bro': -2.2728295,\n",
              " 'broad': -2.2610183,\n",
              " 'broadcast': -2.8891249,\n",
              " 'broadway': -2.5918067,\n",
              " 'broke': -2.5153039,\n",
              " 'broken': -2.7719548,\n",
              " 'brolin': -2.7167346,\n",
              " 'brooke': -2.0832078,\n",
              " 'brooklyn': -2.1018693,\n",
              " 'brooks': -2.6644993,\n",
              " 'bros': -2.3369281,\n",
              " 'brosnan': -2.6718643,\n",
              " 'brothel': -2.3657298,\n",
              " 'brother': -3.1662455,\n",
              " 'brothers': -2.4930596,\n",
              " 'brought': -2.8205914,\n",
              " 'brown': -2.2436376,\n",
              " 'browns': -2.6833951,\n",
              " 'bruce': -2.976047,\n",
              " 'bruckheimer': -2.6233191,\n",
              " 'brunette': -2.0990806,\n",
              " 'bruno': -2.2323563,\n",
              " 'brutal': -2.3911378,\n",
              " 'brutality': -2.6345491,\n",
              " 'brutally': -2.2356582,\n",
              " 'bs': -2.0263798,\n",
              " 'bsg': -2.5828226,\n",
              " 'btw': -2.4598956,\n",
              " 'bubble': -2.4978468,\n",
              " 'buck': -3.2264354,\n",
              " 'bucks': -2.2345507,\n",
              " 'bucktown': -2.6338687,\n",
              " 'bud': -2.140133,\n",
              " 'buddies': -2.5310233,\n",
              " 'buddy': -2.7472892,\n",
              " 'budget': -2.0797663,\n",
              " 'budgets': -2.4010978,\n",
              " 'buff': -1.7756397,\n",
              " 'buffs': -2.4494362,\n",
              " 'buffy': -2.7507281,\n",
              " 'bug': -2.6012027,\n",
              " 'bugs': -1.5909206,\n",
              " 'build': -2.15218,\n",
              " 'building': -2.5803828,\n",
              " 'buildings': -2.704964,\n",
              " 'builds': -2.3546252,\n",
              " 'built': -2.5555258,\n",
              " 'bulk': -2.7413268,\n",
              " 'bull': -2.1658797,\n",
              " 'bullet': -2.4178498,\n",
              " 'bullets': -2.5193703,\n",
              " 'bully': -1.9321904,\n",
              " 'bum': -1.9976906,\n",
              " 'bumbling': -2.5285256,\n",
              " 'bunch': -2.1886916,\n",
              " 'bunny': -2.6818862,\n",
              " 'buried': -2.4113898,\n",
              " 'burlesque': -2.0992439,\n",
              " 'burn': -2.8130875,\n",
              " 'burned': -2.5707445,\n",
              " 'burning': -2.7327673,\n",
              " 'burns': -2.597612,\n",
              " 'burst': -2.633976,\n",
              " 'burstyn': -2.4756336,\n",
              " 'burt': -2.7290409,\n",
              " 'burton': -2.1973436,\n",
              " 'burying': -2.0356064,\n",
              " 'bus': -2.534412,\n",
              " 'buscemi': -2.63371,\n",
              " 'business': -2.1511853,\n",
              " 'businessman': -1.9894527,\n",
              " 'busta': -2.393354,\n",
              " 'buster': -2.2551296,\n",
              " 'busy': -2.8143864,\n",
              " 'butch': -2.2745228,\n",
              " 'butchered': -2.1946871,\n",
              " 'butler': -2.969352,\n",
              " 'butt': -2.6114914,\n",
              " 'button': -2.4978964,\n",
              " 'buy': -1.7287844,\n",
              " 'buying': -2.3963776,\n",
              " 'buzz': -2.3994558,\n",
              " 'bw': -2.4028466,\n",
              " 'bythenumbers': -2.365741,\n",
              " 'c': -2.9196951,\n",
              " 'cabin': -2.486148,\n",
              " 'cable': -2.832786,\n",
              " 'cadets': -2.489841,\n",
              " 'cafe': -2.606733,\n",
              " 'cage': -1.6035862,\n",
              " 'cages': -2.0763385,\n",
              " 'cagney': -2.5193975,\n",
              " 'cahill': -1.9034762,\n",
              " 'cain': -3.081267,\n",
              " 'caine': -2.6817803,\n",
              " 'cains': -2.300077,\n",
              " 'cake': -2.4732366,\n",
              " 'california': -2.1192281,\n",
              " 'call': -2.4259853,\n",
              " 'called': -2.7123117,\n",
              " 'calling': -3.2031639,\n",
              " 'calls': -1.9703008,\n",
              " 'calm': -2.5445185,\n",
              " 'cambodia': -2.3617709,\n",
              " 'camcorder': -2.4705195,\n",
              " 'came': -2.3839715,\n",
              " 'cameo': -2.2651,\n",
              " 'cameos': -2.0080044,\n",
              " 'camera': -2.225014,\n",
              " 'cameraman': -3.2215097,\n",
              " 'cameras': -1.9741025,\n",
              " 'camerawork': -2.119877,\n",
              " 'cameron': -2.1384802,\n",
              " 'camp': -2.5367823,\n",
              " 'campaign': -2.0833735,\n",
              " 'campbell': -2.3705528,\n",
              " 'campy': -2.1724615,\n",
              " 'canada': -2.1071882,\n",
              " 'canadian': -2.3645325,\n",
              " 'canceled': -2.1889215,\n",
              " 'cancelled': -2.9692156,\n",
              " 'cancer': -2.1364331,\n",
              " 'candidates': -2.467303,\n",
              " 'candle': -2.8801513,\n",
              " 'candy': -2.7372754,\n",
              " 'cannes': -2.2879632,\n",
              " 'cannibal': -2.512291,\n",
              " 'cannibalistic': -2.5217206,\n",
              " 'cannon': -2.2394779,\n",
              " 'canoe': -2.0370145,\n",
              " 'cant': -1.6028697,\n",
              " 'canyon': -2.2484164,\n",
              " 'capable': -2.5704658,\n",
              " 'capacity': -2.5163822,\n",
              " 'capital': -2.3199544,\n",
              " 'capitalize': -2.2855444,\n",
              " 'caprica': -1.8545104,\n",
              " 'capsule': -1.814427,\n",
              " 'captain': -2.501363,\n",
              " 'captivated': -2.6371253,\n",
              " 'captivating': -2.7671032,\n",
              " 'capture': -2.2636867,\n",
              " 'captured': -2.0720057,\n",
              " 'captures': -2.4597719,\n",
              " 'capturing': -2.671791,\n",
              " 'car': -1.9458909,\n",
              " 'card': -2.3716958,\n",
              " 'cardboard': -2.5476797,\n",
              " 'cards': -2.2553682,\n",
              " 'care': -2.119552,\n",
              " 'cared': -1.7236819,\n",
              " 'career': -1.9251928,\n",
              " 'careers': -1.9922563,\n",
              " ...}"
            ]
          },
          "metadata": {
            "tags": []
          },
          "execution_count": 74
        }
      ]
    },
    {
      "cell_type": "code",
      "metadata": {
        "id": "UDXjQE171M9t",
        "colab_type": "code",
        "colab": {}
      },
      "source": [
        "#키워드를 역추적하기 위한 사전 생성 \n",
        "w2v_rev_dict = dict([(v,k) for k, v in w2v_dict.items()])"
      ],
      "execution_count": 82,
      "outputs": []
    },
    {
      "cell_type": "code",
      "metadata": {
        "id": "k_2PBqYc0Chf",
        "colab_type": "code",
        "colab": {}
      },
      "source": [
        "from keras.preprocessing.sequence import pad_sequences"
      ],
      "execution_count": 83,
      "outputs": []
    },
    {
      "cell_type": "code",
      "metadata": {
        "id": "hQvY0Uun1Mzd",
        "colab_type": "code",
        "colab": {}
      },
      "source": [
        "def encoding_and_padding(corp_list, dic, max_seq):\n",
        "    coding_seq = [ [dic.get(j, dic['_UNK_']) for j in i]  for i in corp_list ]\n",
        "    #일반적으로 리뷰는 마지막 부분에 많은 정보를 포함할 가능성이 많아 패딩은 앞에 준다. \n",
        "    return(pad_sequences(coding_seq, maxlen=max_seq, padding='pre', truncating='pre', dtype=float ,value=dic['_PAD_']))"
      ],
      "execution_count": 102,
      "outputs": []
    },
    {
      "cell_type": "code",
      "metadata": {
        "id": "lEb7b2R-dAq_",
        "colab_type": "code",
        "colab": {}
      },
      "source": [
        "train_x = encoding_and_padding(corp, w2v_dict, max_seq=50)"
      ],
      "execution_count": 103,
      "outputs": []
    },
    {
      "cell_type": "code",
      "metadata": {
        "id": "9nNohVKGdAvb",
        "colab_type": "code",
        "colab": {
          "base_uri": "https://localhost:8080/",
          "height": 917
        },
        "outputId": "294cebf0-7111-47ed-ca41-9053436a83dd"
      },
      "source": [
        "train_x[:5]"
      ],
      "execution_count": 104,
      "outputs": [
        {
          "output_type": "execute_result",
          "data": {
            "text/plain": [
              "array([[-2.91969514,  1.        , -1.45908225, -0.73153555,  1.        ,\n",
              "         1.        , -3.44727874,  1.        ,  1.        , -0.94002485,\n",
              "        -0.80262792,  1.        , -1.45908225,  1.        ,  1.        ,\n",
              "        -2.91969514, -0.73153555, -1.45908225,  1.        ,  1.        ,\n",
              "         1.        , -0.63892108,  1.        ,  1.        , -2.91969514,\n",
              "        -0.89530098,  1.        ,  1.        , -0.94002485,  1.        ,\n",
              "        -0.71401638,  1.        , -0.89530098,  1.        , -0.94002485,\n",
              "        -1.45908225,  1.        , -0.47048864, -0.73153555,  1.        ,\n",
              "        -0.65729159,  1.        , -0.94002485,  1.        , -2.91969514,\n",
              "        -1.45908225,  1.        ,  1.        , -1.35290885,  1.        ],\n",
              "       [ 1.        , -3.44727874, -0.73153555,  1.        , -0.80262792,\n",
              "        -1.35290885, -0.89530098,  1.        ,  1.        , -0.63892108,\n",
              "        -1.45908225, -0.94002485, -0.94002485,  1.        ,  1.        ,\n",
              "         1.        , -0.73153555, -1.45908225, -2.91969514,  1.        ,\n",
              "         1.        , -0.73153555,  1.        ,  1.        ,  1.        ,\n",
              "        -2.91969514, -0.89530098,  1.        , -1.45908225, -0.94002485,\n",
              "         1.        , -0.63892108,  1.        , -0.71401638, -0.71401638,\n",
              "        -1.45908225, -0.73153555,  1.        , -1.45908225, -0.71401638,\n",
              "         1.        ,  1.        , -0.71401638, -1.35290885,  1.        ,\n",
              "         1.        ,  1.        ,  1.        , -0.94002485, -0.94002485],\n",
              "       [-0.65729159, -0.94002485,  1.        ,  1.        ,  1.        ,\n",
              "        -0.71401638, -1.35290885,  1.        , -0.94002485,  1.        ,\n",
              "         1.        , -1.45908225,  1.        ,  1.        , -2.91969514,\n",
              "         1.        , -0.71401638,  1.        , -1.45908225, -0.73153555,\n",
              "         1.        ,  1.        ,  1.        ,  1.        ,  1.        ,\n",
              "        -0.71401638,  1.        , -0.63892108,  1.        ,  1.        ,\n",
              "         1.        , -1.45908225,  1.        ,  1.        , -0.73153555,\n",
              "         1.        , -3.44727874, -3.44727874,  1.        , -0.71401638,\n",
              "         1.        ,  1.        , -0.73153555, -1.45908225,  1.        ,\n",
              "        -0.73153555,  1.        , -1.45908225,  1.        , -1.45908225],\n",
              "       [ 1.        ,  1.        , -0.89530098, -1.45908225, -0.73153555,\n",
              "         1.        ,  1.        , -3.44727874, -1.45908225, -0.89530098,\n",
              "         1.        , -0.71401638,  1.        ,  1.        , -0.94002485,\n",
              "         1.        ,  1.        ,  1.        , -1.45908225,  1.        ,\n",
              "         1.        ,  1.        , -1.35290885, -0.73153555, -1.45908225,\n",
              "        -1.45908225,  1.        ,  1.        , -1.35290885, -0.73153555,\n",
              "        -1.45908225,  1.        ,  1.        ,  1.        ,  1.        ,\n",
              "         1.        ,  1.        ,  1.        , -1.45908225,  1.        ,\n",
              "        -1.35290885, -0.73153555, -1.45908225,  1.        ,  1.        ,\n",
              "         1.        , -0.63892108,  1.        , -0.71401638,  1.        ],\n",
              "       [ 1.        , -0.63892108,  1.        ,  1.        , -2.91969514,\n",
              "        -0.89530098, -1.45908225,  1.        ,  1.        , -1.45908225,\n",
              "        -0.65729159,  1.        ,  1.        ,  1.        ,  1.        ,\n",
              "        -1.45908225,  1.        ,  1.        , -0.89530098,  1.        ,\n",
              "        -0.65729159, -1.45908225,  1.        , -2.91969514,  1.        ,\n",
              "         1.        , -1.45908225,  1.        ,  1.        ,  1.        ,\n",
              "         1.        ,  1.        ,  1.        ,  1.        ,  1.        ,\n",
              "         1.        ,  1.        , -0.89530098,  1.        , -0.71401638,\n",
              "         1.        ,  1.        ,  1.        , -0.73153555, -1.45908225,\n",
              "         1.        ,  1.        ,  1.        , -0.71401638, -1.35290885]])"
            ]
          },
          "metadata": {
            "tags": []
          },
          "execution_count": 104
        }
      ]
    },
    {
      "cell_type": "code",
      "metadata": {
        "id": "FMiS-IBidA_V",
        "colab_type": "code",
        "colab": {}
      },
      "source": [
        "train_y = np.array(label_N)"
      ],
      "execution_count": 105,
      "outputs": []
    },
    {
      "cell_type": "code",
      "metadata": {
        "id": "VJLOMnd2dBBY",
        "colab_type": "code",
        "colab": {
          "base_uri": "https://localhost:8080/",
          "height": 35
        },
        "outputId": "a207ea2b-c26c-4875-951f-37bf4ab08298"
      },
      "source": [
        "train_x.shape, train_y.shape"
      ],
      "execution_count": 106,
      "outputs": [
        {
          "output_type": "execute_result",
          "data": {
            "text/plain": [
              "((2000, 50), (2000,))"
            ]
          },
          "metadata": {
            "tags": []
          },
          "execution_count": 106
        }
      ]
    },
    {
      "cell_type": "markdown",
      "metadata": {
        "id": "PJvJqC1c0a44",
        "colab_type": "text"
      },
      "source": [
        "Grad - CAM"
      ]
    },
    {
      "cell_type": "code",
      "metadata": {
        "id": "vfO363xVdA8u",
        "colab_type": "code",
        "colab": {}
      },
      "source": [
        "from keras.models import *\n",
        "from keras.layers import *\n",
        "from keras.utils import *\n",
        "from keras.optimizers import *\n",
        "from keras.callbacks import *\n",
        "from keras.layers import merge\n",
        "from keras.layers.core import *\n",
        "from keras.layers.recurrent import LSTM\n",
        "from keras.models import *\n",
        "import keras.backend as K"
      ],
      "execution_count": 38,
      "outputs": []
    },
    {
      "cell_type": "code",
      "metadata": {
        "id": "uoOfK6FcdAt2",
        "colab_type": "code",
        "colab": {}
      },
      "source": [
        "x_dim = train_x.shape[1]"
      ],
      "execution_count": 107,
      "outputs": []
    },
    {
      "cell_type": "code",
      "metadata": {
        "id": "K0ILyHupwRL-",
        "colab_type": "code",
        "colab": {
          "base_uri": "https://localhost:8080/",
          "height": 485
        },
        "outputId": "77fdcb26-9eb0-4ace-d744-d76f7a076f4d"
      },
      "source": [
        "model = Sequential()\n",
        "model.add(Embedding(input_dim=len(w2v_dict) , output_dim= embedding_size, input_length = x_dim))\n",
        "model.add(Conv1D(filters=32, kernel_size=1, activation='relu', padding = 'same'))\n",
        "model.add(AveragePooling1D())\n",
        "model.add(Conv1D(filters=16, kernel_size=2, activation='relu', padding = 'same'))\n",
        "model.add(AveragePooling1D())\n",
        "model.add(Conv1D(filters=8, kernel_size=3, activation='relu', padding = 'same'))\n",
        "model.add(AveragePooling1D())\n",
        "# model.add(concatenate(model))\n",
        "model.add(Bidirectional(GRU(10, recurrent_dropout=0.2, dropout=0.2)))\n",
        "model.add(Dense(1, activation='sigmoid'))\n",
        "\n",
        "model.compile(loss=\"categorical_crossentropy\",optimizer='rmsprop', metrics=[\"acc\"])\n",
        "model.summary()"
      ],
      "execution_count": 129,
      "outputs": [
        {
          "output_type": "stream",
          "text": [
            "Model: \"sequential_23\"\n",
            "_________________________________________________________________\n",
            "Layer (type)                 Output Shape              Param #   \n",
            "=================================================================\n",
            "embedding_20 (Embedding)     (None, 50, 1)             8041      \n",
            "_________________________________________________________________\n",
            "conv1d_60 (Conv1D)           (None, 50, 32)            64        \n",
            "_________________________________________________________________\n",
            "average_pooling1d_59 (Averag (None, 25, 32)            0         \n",
            "_________________________________________________________________\n",
            "conv1d_61 (Conv1D)           (None, 25, 16)            1040      \n",
            "_________________________________________________________________\n",
            "average_pooling1d_60 (Averag (None, 12, 16)            0         \n",
            "_________________________________________________________________\n",
            "conv1d_62 (Conv1D)           (None, 12, 8)             392       \n",
            "_________________________________________________________________\n",
            "average_pooling1d_61 (Averag (None, 6, 8)              0         \n",
            "_________________________________________________________________\n",
            "bidirectional_8 (Bidirection (None, 20)                1200      \n",
            "_________________________________________________________________\n",
            "dense_14 (Dense)             (None, 1)                 21        \n",
            "=================================================================\n",
            "Total params: 10,758\n",
            "Trainable params: 10,758\n",
            "Non-trainable params: 0\n",
            "_________________________________________________________________\n"
          ],
          "name": "stdout"
        }
      ]
    },
    {
      "cell_type": "code",
      "metadata": {
        "id": "plSQ_WoakOr-",
        "colab_type": "code",
        "colab": {}
      },
      "source": [
        "# inputs = Input(shape=(train_x.shape[1],), name='input')\n",
        "# embeddings_out = Embedding(input_dim=len(w2v_dict), output_dim=1,name='embedding')(inputs)\n",
        "# conv0 = Conv1D(32, 1, padding='same')(embeddings_out)\n",
        "# conv1 = Conv1D(16, 2, padding='same')(embeddings_out)\n",
        "# conv2 = Conv1D(8, 3, padding='same')(embeddings_out)\n",
        "# pool0 = AveragePooling1D()(conv0)\n",
        "# pool1 = AveragePooling1D()(conv1)\n",
        "# pool2 = AveragePooling1D()(conv2)\n",
        "# concat_layer = concatenate([pool0, pool1, pool2],axis=2)\n",
        "# bidir =Bidirectional(GRU(10, recurrent_dropout=0.2, dropout=0.2))(concat_layer)\n",
        "# out = Dense(1,activation='sigmoid')(bidir)\n",
        "# model = Model(inputs=[inputs,], outputs=out)\n",
        "# model.summary()\n",
        "# model.compile(optimizer='rmsprop', loss='binary_crossentropy')"
      ],
      "execution_count": null,
      "outputs": []
    },
    {
      "cell_type": "code",
      "metadata": {
        "id": "XK9SjPbJlHWH",
        "colab_type": "code",
        "colab": {
          "base_uri": "https://localhost:8080/",
          "height": 484
        },
        "outputId": "60b454de-01a5-418d-dc1b-a073e9828403"
      },
      "source": [
        "hist = model.fit(x=train_x,y=train_y, batch_size=100, epochs=10, validation_split=0.1)"
      ],
      "execution_count": 134,
      "outputs": [
        {
          "output_type": "stream",
          "text": [
            "Epoch 1/10\n"
          ],
          "name": "stdout"
        },
        {
          "output_type": "error",
          "ename": "InvalidArgumentError",
          "evalue": "ignored",
          "traceback": [
            "\u001b[0;31m---------------------------------------------------------------------------\u001b[0m",
            "\u001b[0;31mInvalidArgumentError\u001b[0m                      Traceback (most recent call last)",
            "\u001b[0;32m<ipython-input-134-61709e0bedd2>\u001b[0m in \u001b[0;36m<module>\u001b[0;34m()\u001b[0m\n\u001b[0;32m----> 1\u001b[0;31m \u001b[0mhist\u001b[0m \u001b[0;34m=\u001b[0m \u001b[0mmodel\u001b[0m\u001b[0;34m.\u001b[0m\u001b[0mfit\u001b[0m\u001b[0;34m(\u001b[0m\u001b[0mx\u001b[0m\u001b[0;34m=\u001b[0m\u001b[0mtrain_x\u001b[0m\u001b[0;34m,\u001b[0m\u001b[0my\u001b[0m\u001b[0;34m=\u001b[0m\u001b[0mtrain_y\u001b[0m\u001b[0;34m,\u001b[0m \u001b[0mbatch_size\u001b[0m\u001b[0;34m=\u001b[0m\u001b[0;36m100\u001b[0m\u001b[0;34m,\u001b[0m \u001b[0mepochs\u001b[0m\u001b[0;34m=\u001b[0m\u001b[0;36m10\u001b[0m\u001b[0;34m,\u001b[0m \u001b[0mvalidation_split\u001b[0m\u001b[0;34m=\u001b[0m\u001b[0;36m0.1\u001b[0m\u001b[0;34m)\u001b[0m\u001b[0;34m\u001b[0m\u001b[0;34m\u001b[0m\u001b[0m\n\u001b[0m",
            "\u001b[0;32m/usr/local/lib/python3.6/dist-packages/tensorflow/python/keras/engine/training.py\u001b[0m in \u001b[0;36m_method_wrapper\u001b[0;34m(self, *args, **kwargs)\u001b[0m\n\u001b[1;32m    106\u001b[0m   \u001b[0;32mdef\u001b[0m \u001b[0m_method_wrapper\u001b[0m\u001b[0;34m(\u001b[0m\u001b[0mself\u001b[0m\u001b[0;34m,\u001b[0m \u001b[0;34m*\u001b[0m\u001b[0margs\u001b[0m\u001b[0;34m,\u001b[0m \u001b[0;34m**\u001b[0m\u001b[0mkwargs\u001b[0m\u001b[0;34m)\u001b[0m\u001b[0;34m:\u001b[0m\u001b[0;34m\u001b[0m\u001b[0;34m\u001b[0m\u001b[0m\n\u001b[1;32m    107\u001b[0m     \u001b[0;32mif\u001b[0m \u001b[0;32mnot\u001b[0m \u001b[0mself\u001b[0m\u001b[0;34m.\u001b[0m\u001b[0m_in_multi_worker_mode\u001b[0m\u001b[0;34m(\u001b[0m\u001b[0;34m)\u001b[0m\u001b[0;34m:\u001b[0m  \u001b[0;31m# pylint: disable=protected-access\u001b[0m\u001b[0;34m\u001b[0m\u001b[0;34m\u001b[0m\u001b[0m\n\u001b[0;32m--> 108\u001b[0;31m       \u001b[0;32mreturn\u001b[0m \u001b[0mmethod\u001b[0m\u001b[0;34m(\u001b[0m\u001b[0mself\u001b[0m\u001b[0;34m,\u001b[0m \u001b[0;34m*\u001b[0m\u001b[0margs\u001b[0m\u001b[0;34m,\u001b[0m \u001b[0;34m**\u001b[0m\u001b[0mkwargs\u001b[0m\u001b[0;34m)\u001b[0m\u001b[0;34m\u001b[0m\u001b[0;34m\u001b[0m\u001b[0m\n\u001b[0m\u001b[1;32m    109\u001b[0m \u001b[0;34m\u001b[0m\u001b[0m\n\u001b[1;32m    110\u001b[0m     \u001b[0;31m# Running inside `run_distribute_coordinator` already.\u001b[0m\u001b[0;34m\u001b[0m\u001b[0;34m\u001b[0m\u001b[0;34m\u001b[0m\u001b[0m\n",
            "\u001b[0;32m/usr/local/lib/python3.6/dist-packages/tensorflow/python/keras/engine/training.py\u001b[0m in \u001b[0;36mfit\u001b[0;34m(self, x, y, batch_size, epochs, verbose, callbacks, validation_split, validation_data, shuffle, class_weight, sample_weight, initial_epoch, steps_per_epoch, validation_steps, validation_batch_size, validation_freq, max_queue_size, workers, use_multiprocessing)\u001b[0m\n\u001b[1;32m   1096\u001b[0m                 batch_size=batch_size):\n\u001b[1;32m   1097\u001b[0m               \u001b[0mcallbacks\u001b[0m\u001b[0;34m.\u001b[0m\u001b[0mon_train_batch_begin\u001b[0m\u001b[0;34m(\u001b[0m\u001b[0mstep\u001b[0m\u001b[0;34m)\u001b[0m\u001b[0;34m\u001b[0m\u001b[0;34m\u001b[0m\u001b[0m\n\u001b[0;32m-> 1098\u001b[0;31m               \u001b[0mtmp_logs\u001b[0m \u001b[0;34m=\u001b[0m \u001b[0mtrain_function\u001b[0m\u001b[0;34m(\u001b[0m\u001b[0miterator\u001b[0m\u001b[0;34m)\u001b[0m\u001b[0;34m\u001b[0m\u001b[0;34m\u001b[0m\u001b[0m\n\u001b[0m\u001b[1;32m   1099\u001b[0m               \u001b[0;32mif\u001b[0m \u001b[0mdata_handler\u001b[0m\u001b[0;34m.\u001b[0m\u001b[0mshould_sync\u001b[0m\u001b[0;34m:\u001b[0m\u001b[0;34m\u001b[0m\u001b[0;34m\u001b[0m\u001b[0m\n\u001b[1;32m   1100\u001b[0m                 \u001b[0mcontext\u001b[0m\u001b[0;34m.\u001b[0m\u001b[0masync_wait\u001b[0m\u001b[0;34m(\u001b[0m\u001b[0;34m)\u001b[0m\u001b[0;34m\u001b[0m\u001b[0;34m\u001b[0m\u001b[0m\n",
            "\u001b[0;32m/usr/local/lib/python3.6/dist-packages/tensorflow/python/eager/def_function.py\u001b[0m in \u001b[0;36m__call__\u001b[0;34m(self, *args, **kwds)\u001b[0m\n\u001b[1;32m    778\u001b[0m       \u001b[0;32melse\u001b[0m\u001b[0;34m:\u001b[0m\u001b[0;34m\u001b[0m\u001b[0;34m\u001b[0m\u001b[0m\n\u001b[1;32m    779\u001b[0m         \u001b[0mcompiler\u001b[0m \u001b[0;34m=\u001b[0m \u001b[0;34m\"nonXla\"\u001b[0m\u001b[0;34m\u001b[0m\u001b[0;34m\u001b[0m\u001b[0m\n\u001b[0;32m--> 780\u001b[0;31m         \u001b[0mresult\u001b[0m \u001b[0;34m=\u001b[0m \u001b[0mself\u001b[0m\u001b[0;34m.\u001b[0m\u001b[0m_call\u001b[0m\u001b[0;34m(\u001b[0m\u001b[0;34m*\u001b[0m\u001b[0margs\u001b[0m\u001b[0;34m,\u001b[0m \u001b[0;34m**\u001b[0m\u001b[0mkwds\u001b[0m\u001b[0;34m)\u001b[0m\u001b[0;34m\u001b[0m\u001b[0;34m\u001b[0m\u001b[0m\n\u001b[0m\u001b[1;32m    781\u001b[0m \u001b[0;34m\u001b[0m\u001b[0m\n\u001b[1;32m    782\u001b[0m       \u001b[0mnew_tracing_count\u001b[0m \u001b[0;34m=\u001b[0m \u001b[0mself\u001b[0m\u001b[0;34m.\u001b[0m\u001b[0m_get_tracing_count\u001b[0m\u001b[0;34m(\u001b[0m\u001b[0;34m)\u001b[0m\u001b[0;34m\u001b[0m\u001b[0;34m\u001b[0m\u001b[0m\n",
            "\u001b[0;32m/usr/local/lib/python3.6/dist-packages/tensorflow/python/eager/def_function.py\u001b[0m in \u001b[0;36m_call\u001b[0;34m(self, *args, **kwds)\u001b[0m\n\u001b[1;32m    838\u001b[0m         \u001b[0;31m# Lifting succeeded, so variables are initialized and we can run the\u001b[0m\u001b[0;34m\u001b[0m\u001b[0;34m\u001b[0m\u001b[0;34m\u001b[0m\u001b[0m\n\u001b[1;32m    839\u001b[0m         \u001b[0;31m# stateless function.\u001b[0m\u001b[0;34m\u001b[0m\u001b[0;34m\u001b[0m\u001b[0;34m\u001b[0m\u001b[0m\n\u001b[0;32m--> 840\u001b[0;31m         \u001b[0;32mreturn\u001b[0m \u001b[0mself\u001b[0m\u001b[0;34m.\u001b[0m\u001b[0m_stateless_fn\u001b[0m\u001b[0;34m(\u001b[0m\u001b[0;34m*\u001b[0m\u001b[0margs\u001b[0m\u001b[0;34m,\u001b[0m \u001b[0;34m**\u001b[0m\u001b[0mkwds\u001b[0m\u001b[0;34m)\u001b[0m\u001b[0;34m\u001b[0m\u001b[0;34m\u001b[0m\u001b[0m\n\u001b[0m\u001b[1;32m    841\u001b[0m     \u001b[0;32melse\u001b[0m\u001b[0;34m:\u001b[0m\u001b[0;34m\u001b[0m\u001b[0;34m\u001b[0m\u001b[0m\n\u001b[1;32m    842\u001b[0m       \u001b[0mcanon_args\u001b[0m\u001b[0;34m,\u001b[0m \u001b[0mcanon_kwds\u001b[0m \u001b[0;34m=\u001b[0m\u001b[0;31m \u001b[0m\u001b[0;31m\\\u001b[0m\u001b[0;34m\u001b[0m\u001b[0;34m\u001b[0m\u001b[0m\n",
            "\u001b[0;32m/usr/local/lib/python3.6/dist-packages/tensorflow/python/eager/function.py\u001b[0m in \u001b[0;36m__call__\u001b[0;34m(self, *args, **kwargs)\u001b[0m\n\u001b[1;32m   2827\u001b[0m     \u001b[0;32mwith\u001b[0m \u001b[0mself\u001b[0m\u001b[0;34m.\u001b[0m\u001b[0m_lock\u001b[0m\u001b[0;34m:\u001b[0m\u001b[0;34m\u001b[0m\u001b[0;34m\u001b[0m\u001b[0m\n\u001b[1;32m   2828\u001b[0m       \u001b[0mgraph_function\u001b[0m\u001b[0;34m,\u001b[0m \u001b[0margs\u001b[0m\u001b[0;34m,\u001b[0m \u001b[0mkwargs\u001b[0m \u001b[0;34m=\u001b[0m \u001b[0mself\u001b[0m\u001b[0;34m.\u001b[0m\u001b[0m_maybe_define_function\u001b[0m\u001b[0;34m(\u001b[0m\u001b[0margs\u001b[0m\u001b[0;34m,\u001b[0m \u001b[0mkwargs\u001b[0m\u001b[0;34m)\u001b[0m\u001b[0;34m\u001b[0m\u001b[0;34m\u001b[0m\u001b[0m\n\u001b[0;32m-> 2829\u001b[0;31m     \u001b[0;32mreturn\u001b[0m \u001b[0mgraph_function\u001b[0m\u001b[0;34m.\u001b[0m\u001b[0m_filtered_call\u001b[0m\u001b[0;34m(\u001b[0m\u001b[0margs\u001b[0m\u001b[0;34m,\u001b[0m \u001b[0mkwargs\u001b[0m\u001b[0;34m)\u001b[0m  \u001b[0;31m# pylint: disable=protected-access\u001b[0m\u001b[0;34m\u001b[0m\u001b[0;34m\u001b[0m\u001b[0m\n\u001b[0m\u001b[1;32m   2830\u001b[0m \u001b[0;34m\u001b[0m\u001b[0m\n\u001b[1;32m   2831\u001b[0m   \u001b[0;34m@\u001b[0m\u001b[0mproperty\u001b[0m\u001b[0;34m\u001b[0m\u001b[0;34m\u001b[0m\u001b[0m\n",
            "\u001b[0;32m/usr/local/lib/python3.6/dist-packages/tensorflow/python/eager/function.py\u001b[0m in \u001b[0;36m_filtered_call\u001b[0;34m(self, args, kwargs, cancellation_manager)\u001b[0m\n\u001b[1;32m   1846\u001b[0m                            resource_variable_ops.BaseResourceVariable))],\n\u001b[1;32m   1847\u001b[0m         \u001b[0mcaptured_inputs\u001b[0m\u001b[0;34m=\u001b[0m\u001b[0mself\u001b[0m\u001b[0;34m.\u001b[0m\u001b[0mcaptured_inputs\u001b[0m\u001b[0;34m,\u001b[0m\u001b[0;34m\u001b[0m\u001b[0;34m\u001b[0m\u001b[0m\n\u001b[0;32m-> 1848\u001b[0;31m         cancellation_manager=cancellation_manager)\n\u001b[0m\u001b[1;32m   1849\u001b[0m \u001b[0;34m\u001b[0m\u001b[0m\n\u001b[1;32m   1850\u001b[0m   \u001b[0;32mdef\u001b[0m \u001b[0m_call_flat\u001b[0m\u001b[0;34m(\u001b[0m\u001b[0mself\u001b[0m\u001b[0;34m,\u001b[0m \u001b[0margs\u001b[0m\u001b[0;34m,\u001b[0m \u001b[0mcaptured_inputs\u001b[0m\u001b[0;34m,\u001b[0m \u001b[0mcancellation_manager\u001b[0m\u001b[0;34m=\u001b[0m\u001b[0;32mNone\u001b[0m\u001b[0;34m)\u001b[0m\u001b[0;34m:\u001b[0m\u001b[0;34m\u001b[0m\u001b[0;34m\u001b[0m\u001b[0m\n",
            "\u001b[0;32m/usr/local/lib/python3.6/dist-packages/tensorflow/python/eager/function.py\u001b[0m in \u001b[0;36m_call_flat\u001b[0;34m(self, args, captured_inputs, cancellation_manager)\u001b[0m\n\u001b[1;32m   1922\u001b[0m       \u001b[0;31m# No tape is watching; skip to running the function.\u001b[0m\u001b[0;34m\u001b[0m\u001b[0;34m\u001b[0m\u001b[0;34m\u001b[0m\u001b[0m\n\u001b[1;32m   1923\u001b[0m       return self._build_call_outputs(self._inference_function.call(\n\u001b[0;32m-> 1924\u001b[0;31m           ctx, args, cancellation_manager=cancellation_manager))\n\u001b[0m\u001b[1;32m   1925\u001b[0m     forward_backward = self._select_forward_and_backward_functions(\n\u001b[1;32m   1926\u001b[0m         \u001b[0margs\u001b[0m\u001b[0;34m,\u001b[0m\u001b[0;34m\u001b[0m\u001b[0;34m\u001b[0m\u001b[0m\n",
            "\u001b[0;32m/usr/local/lib/python3.6/dist-packages/tensorflow/python/eager/function.py\u001b[0m in \u001b[0;36mcall\u001b[0;34m(self, ctx, args, cancellation_manager)\u001b[0m\n\u001b[1;32m    548\u001b[0m               \u001b[0minputs\u001b[0m\u001b[0;34m=\u001b[0m\u001b[0margs\u001b[0m\u001b[0;34m,\u001b[0m\u001b[0;34m\u001b[0m\u001b[0;34m\u001b[0m\u001b[0m\n\u001b[1;32m    549\u001b[0m               \u001b[0mattrs\u001b[0m\u001b[0;34m=\u001b[0m\u001b[0mattrs\u001b[0m\u001b[0;34m,\u001b[0m\u001b[0;34m\u001b[0m\u001b[0;34m\u001b[0m\u001b[0m\n\u001b[0;32m--> 550\u001b[0;31m               ctx=ctx)\n\u001b[0m\u001b[1;32m    551\u001b[0m         \u001b[0;32melse\u001b[0m\u001b[0;34m:\u001b[0m\u001b[0;34m\u001b[0m\u001b[0;34m\u001b[0m\u001b[0m\n\u001b[1;32m    552\u001b[0m           outputs = execute.execute_with_cancellation(\n",
            "\u001b[0;32m/usr/local/lib/python3.6/dist-packages/tensorflow/python/eager/execute.py\u001b[0m in \u001b[0;36mquick_execute\u001b[0;34m(op_name, num_outputs, inputs, attrs, ctx, name)\u001b[0m\n\u001b[1;32m     58\u001b[0m     \u001b[0mctx\u001b[0m\u001b[0;34m.\u001b[0m\u001b[0mensure_initialized\u001b[0m\u001b[0;34m(\u001b[0m\u001b[0;34m)\u001b[0m\u001b[0;34m\u001b[0m\u001b[0;34m\u001b[0m\u001b[0m\n\u001b[1;32m     59\u001b[0m     tensors = pywrap_tfe.TFE_Py_Execute(ctx._handle, device_name, op_name,\n\u001b[0;32m---> 60\u001b[0;31m                                         inputs, attrs, num_outputs)\n\u001b[0m\u001b[1;32m     61\u001b[0m   \u001b[0;32mexcept\u001b[0m \u001b[0mcore\u001b[0m\u001b[0;34m.\u001b[0m\u001b[0m_NotOkStatusException\u001b[0m \u001b[0;32mas\u001b[0m \u001b[0me\u001b[0m\u001b[0;34m:\u001b[0m\u001b[0;34m\u001b[0m\u001b[0;34m\u001b[0m\u001b[0m\n\u001b[1;32m     62\u001b[0m     \u001b[0;32mif\u001b[0m \u001b[0mname\u001b[0m \u001b[0;32mis\u001b[0m \u001b[0;32mnot\u001b[0m \u001b[0;32mNone\u001b[0m\u001b[0;34m:\u001b[0m\u001b[0;34m\u001b[0m\u001b[0;34m\u001b[0m\u001b[0m\n",
            "\u001b[0;31mInvalidArgumentError\u001b[0m:  indices[0,7] = -1 is not in [0, 8041)\n\t [[node functional_7/embedding/embedding_lookup (defined at <ipython-input-134-61709e0bedd2>:1) ]] [Op:__inference_train_function_61776]\n\nErrors may have originated from an input operation.\nInput Source operations connected to node functional_7/embedding/embedding_lookup:\n functional_7/embedding/embedding_lookup/59387 (defined at /usr/lib/python3.6/contextlib.py:81)\n\nFunction call stack:\ntrain_function\n"
          ]
        }
      ]
    },
    {
      "cell_type": "code",
      "metadata": {
        "id": "QcNzztF9lHbi",
        "colab_type": "code",
        "colab": {}
      },
      "source": [
        ""
      ],
      "execution_count": null,
      "outputs": []
    },
    {
      "cell_type": "code",
      "metadata": {
        "id": "cc0a11nflHZg",
        "colab_type": "code",
        "colab": {}
      },
      "source": [
        ""
      ],
      "execution_count": null,
      "outputs": []
    },
    {
      "cell_type": "code",
      "metadata": {
        "id": "gU6Os26glHTH",
        "colab_type": "code",
        "colab": {}
      },
      "source": [
        ""
      ],
      "execution_count": null,
      "outputs": []
    },
    {
      "cell_type": "markdown",
      "metadata": {
        "id": "jYxnzfPLhI3T",
        "colab_type": "text"
      },
      "source": [
        "TF-IDF"
      ]
    },
    {
      "cell_type": "code",
      "metadata": {
        "id": "WCP0blu4jjf3",
        "colab_type": "code",
        "colab": {}
      },
      "source": [
        "from sklearn.feature_extraction.text import TfidfVectorizer\n",
        "\n",
        "tfidfv = TfidfVectorizer().fit(corp)\n",
        "tfidf_ = tfidfv.transform(corp).toarray()"
      ],
      "execution_count": null,
      "outputs": []
    },
    {
      "cell_type": "code",
      "metadata": {
        "id": "ieZtsnkxmRKw",
        "colab_type": "code",
        "colab": {}
      },
      "source": [
        "colnames = list(tfidfv.vocabulary_.keys())"
      ],
      "execution_count": null,
      "outputs": []
    },
    {
      "cell_type": "code",
      "metadata": {
        "id": "mRCbOu5bjjof",
        "colab_type": "code",
        "colab": {}
      },
      "source": [
        "tfidf_.shape"
      ],
      "execution_count": null,
      "outputs": []
    },
    {
      "cell_type": "code",
      "metadata": {
        "id": "GZYYIIuvjjOo",
        "colab_type": "code",
        "colab": {}
      },
      "source": [
        "tfidf_matrix = pd.DataFrame(tfidf_, columns = colnames)\n",
        "tfidf_matrix"
      ],
      "execution_count": null,
      "outputs": []
    },
    {
      "cell_type": "markdown",
      "metadata": {
        "id": "C1lT2eFZHhZa",
        "colab_type": "text"
      },
      "source": [
        "Decision Tree"
      ]
    },
    {
      "cell_type": "code",
      "metadata": {
        "id": "mfICJhTfIInQ",
        "colab_type": "code",
        "colab": {}
      },
      "source": [
        "from sklearn.model_selection import train_test_split\n",
        "from sklearn.tree import DecisionTreeClassifier"
      ],
      "execution_count": null,
      "outputs": []
    },
    {
      "cell_type": "code",
      "metadata": {
        "id": "D2NdXYK-VMDh",
        "colab_type": "code",
        "colab": {}
      },
      "source": [
        "x_train, x_test, y_train, y_test = train_test_split(tfidf_matrix, label_N,\n",
        "\n",
        "                                                    test_size = 0.2, random_state=0)\n",
        "\n"
      ],
      "execution_count": null,
      "outputs": []
    },
    {
      "cell_type": "code",
      "metadata": {
        "id": "k0ugkZfnVMOp",
        "colab_type": "code",
        "colab": {}
      },
      "source": [
        "tree = DecisionTreeClassifier(random_state=0)\n",
        "\n",
        "tree.fit(x_train, y_train)"
      ],
      "execution_count": null,
      "outputs": []
    },
    {
      "cell_type": "code",
      "metadata": {
        "id": "Pv-PvISQVMUP",
        "colab_type": "code",
        "colab": {}
      },
      "source": [
        "feature_imp = tree.feature_importances_"
      ],
      "execution_count": null,
      "outputs": []
    },
    {
      "cell_type": "code",
      "metadata": {
        "id": "wtTFJ404VMFy",
        "colab_type": "code",
        "colab": {}
      },
      "source": [
        "import numpy as np\n",
        "\n",
        "n_feature = tfidf_.shape[1]\n",
        "\n",
        "idx = np.arange(n_feature)\n",
        "\n",
        "plt.figure(figsize=(20,30))\n",
        "\n",
        "plt.barh(idx, feature_imp, align='center')\n",
        "\n",
        "plt.yticks(idx, colnames)\n",
        "\n",
        "plt.xlabel('feature importance', size=15)\n",
        "\n",
        "plt.ylabel('feature', size=15)\n",
        "\n",
        "plt.show()"
      ],
      "execution_count": null,
      "outputs": []
    },
    {
      "cell_type": "code",
      "metadata": {
        "id": "ICU6kSrzAMEq",
        "colab_type": "code",
        "colab": {}
      },
      "source": [
        ""
      ],
      "execution_count": null,
      "outputs": []
    }
  ]
}